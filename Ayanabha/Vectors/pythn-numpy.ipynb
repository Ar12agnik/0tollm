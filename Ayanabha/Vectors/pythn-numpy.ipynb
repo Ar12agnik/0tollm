{
 "cells": [
  {
   "cell_type": "markdown",
   "id": "e426cb28",
   "metadata": {},
   "source": [
    "# Numpy"
   ]
  },
  {
   "cell_type": "markdown",
   "id": "b2ab1b67",
   "metadata": {},
   "source": [
    "NumPy (Numerical Python) provides the ndarray (N-dimensional array) object for efficient storage and manipulation of dense, homogeneous data (all elements must be the same type)."
   ]
  },
  {
   "cell_type": "markdown",
   "id": "cfcbd2e6",
   "metadata": {},
   "source": [
    "## NumPy: ndarray Creation & dtypes"
   ]
  },
  {
   "cell_type": "markdown",
   "id": "f105c831",
   "metadata": {},
   "source": [
    "Why use ndarrays?<br>\n",
    "Faster operations (C-based backend), memory efficiency, and built-in mathematical functions compared to Python lists."
   ]
  },
  {
   "cell_type": "markdown",
   "id": "c39537ee",
   "metadata": {},
   "source": [
    " ### Creating ndarrays"
   ]
  },
  {
   "cell_type": "code",
   "execution_count": 2,
   "id": "bc4ff52a",
   "metadata": {},
   "outputs": [
    {
     "name": "stdout",
     "output_type": "stream",
     "text": [
      "One dimentional array \n",
      " [ 23  56  88  10   9 356  88  90] \n",
      " Two dimentional array \n",
      " [[23 56 78 90]\n",
      " [54 88 12 10]] \n",
      " Three dimentional array \n",
      " [[345 890 778]\n",
      " [670 500 100]\n",
      " [398 345 900]] \n",
      "\n"
     ]
    }
   ],
   "source": [
    "import numpy as np\n",
    "oned_arr = np.array([23, 56, 88, 10, 9, 356, 88, 90]) # 1D Array\n",
    "twod_arr = np.array([[23, 56, 78, 90],[54, 88, 12, 10]]) # 2D Array\n",
    "threed_arr = np.array([[345, 890, 778],[670, 500, 100],[398, 345, 900]]) #3D Array\n",
    "print(f\"One dimentional array \\n {oned_arr} \\n Two dimentional array \\n {twod_arr} \\n Three dimentional array \\n {threed_arr} \\n\")\n",
    "\n"
   ]
  },
  {
   "cell_type": "markdown",
   "id": "6ce56d7e",
   "metadata": {},
   "source": [
    "### Built in function"
   ]
  },
  {
   "cell_type": "code",
   "execution_count": 3,
   "id": "3490fa0d",
   "metadata": {},
   "outputs": [],
   "source": [
    "# Array of zeros (default dtype: float64)\n",
    "zeros = np.zeros((3, 3))  # 3x3 matrix of 0s\n",
    "\n",
    "# Array of ones\n",
    "ones = np.ones((2, 4))    # 2x4 matrix of 1s\n",
    "\n",
    "# Identity matrix\n",
    "identity = np.eye(3)      # 3x3 identity matrix\n",
    "\n",
    "# Array with a range of values\n",
    "range_arr = np.arange(0, 10, 2)  # [0, 2, 4, 6, 8]\n",
    "\n",
    "# Linearly spaced values (5 numbers between 0 and 1)\n",
    "linspace_arr = np.linspace(0, 1, 5)  # [0.0, 0.25, 0.5, 0.75, 1.0]\n",
    "\n",
    "# Random values (0 to 1)\n",
    "random_arr = np.random.rand(2, 3)  # 2x3 random values"
   ]
  },
  {
   "cell_type": "markdown",
   "id": "5d6c9ecc",
   "metadata": {},
   "source": [
    "### Real life usecases \n",
    "eg. Image processing "
   ]
  },
  {
   "cell_type": "code",
   "execution_count": 4,
   "id": "046985da",
   "metadata": {},
   "outputs": [
    {
     "name": "stdout",
     "output_type": "stream",
     "text": [
      "[[0.1 0.2 0.3]\n",
      " [0.4 0.5 0.6]\n",
      " [0.7 0.8 0.9]]\n",
      "float32\n"
     ]
    }
   ],
   "source": [
    "# Simulate a 3x3 pixel grayscale image (2D array)\n",
    "image = np.array([[0.1, 0.2, 0.3],\n",
    "                  [0.4, 0.5, 0.6],\n",
    "                  [0.7, 0.8, 0.9]], dtype=np.float32)\n",
    "print(image)\n",
    "print(image.dtype)"
   ]
  }
 ],
 "metadata": {
  "kernelspec": {
   "display_name": ".venv",
   "language": "python",
   "name": "python3"
  },
  "language_info": {
   "codemirror_mode": {
    "name": "ipython",
    "version": 3
   },
   "file_extension": ".py",
   "mimetype": "text/x-python",
   "name": "python",
   "nbconvert_exporter": "python",
   "pygments_lexer": "ipython3",
   "version": "3.12.4"
  }
 },
 "nbformat": 4,
 "nbformat_minor": 5
}
