{
 "cells": [
  {
   "cell_type": "markdown",
   "id": "e426cb28",
   "metadata": {},
   "source": [
    "# Numpy"
   ]
  },
  {
   "cell_type": "markdown",
   "id": "b2ab1b67",
   "metadata": {},
   "source": [
    "NumPy (Numerical Python) provides the ndarray (N-dimensional array) object for efficient storage and manipulation of dense, homogeneous data (all elements must be the same type)."
   ]
  },
  {
   "cell_type": "markdown",
   "id": "cfcbd2e6",
   "metadata": {},
   "source": [
    "## NumPy: ndarray Creation & dtypes"
   ]
  },
  {
   "cell_type": "markdown",
   "id": "f105c831",
   "metadata": {},
   "source": [
    "Why use ndarrays?<br>\n",
    "Faster operations (C-based backend), memory efficiency, and built-in mathematical functions compared to Python lists."
   ]
  },
  {
   "cell_type": "markdown",
   "id": "c39537ee",
   "metadata": {},
   "source": [
    " ### Creating ndarrays"
   ]
  },
  {
   "cell_type": "code",
   "execution_count": 2,
   "id": "bc4ff52a",
   "metadata": {},
   "outputs": [
    {
     "name": "stdout",
     "output_type": "stream",
     "text": [
      "One dimentional array \n",
      " [ 23  56  88  10   9 356  88  90] \n",
      " Two dimentional array \n",
      " [[23 56 78 90]\n",
      " [54 88 12 10]] \n",
      " Three dimentional array \n",
      " [[345 890 778]\n",
      " [670 500 100]\n",
      " [398 345 900]] \n",
      "\n"
     ]
    }
   ],
   "source": [
    "import numpy as np\n",
    "oned_arr = np.array([23, 56, 88, 10, 9, 356, 88, 90]) # 1D Array\n",
    "twod_arr = np.array([[23, 56, 78, 90],[54, 88, 12, 10]]) # 2D Array\n",
    "threed_arr = np.array([[345, 890, 778],[670, 500, 100],[398, 345, 900]]) #3D Array\n",
    "print(f\"One dimentional array \\n {oned_arr} \\n Two dimentional array \\n {twod_arr} \\n Three dimentional array \\n {threed_arr} \\n\")\n",
    "\n"
   ]
  },
  {
   "cell_type": "markdown",
   "id": "6ce56d7e",
   "metadata": {},
   "source": [
    "### Built in function"
   ]
  },
  {
   "cell_type": "code",
   "execution_count": 3,
   "id": "3490fa0d",
   "metadata": {},
   "outputs": [],
   "source": [
    "# Array of zeros (default dtype: float64)\n",
    "zeros = np.zeros((3, 3))  # 3x3 matrix of 0s\n",
    "\n",
    "# Array of ones\n",
    "ones = np.ones((2, 4))    # 2x4 matrix of 1s\n",
    "\n",
    "# Identity matrix\n",
    "identity = np.eye(3)      # 3x3 identity matrix\n",
    "\n",
    "# Array with a range of values\n",
    "range_arr = np.arange(0, 10, 2)  # [0, 2, 4, 6, 8]\n",
    "\n",
    "# Linearly spaced values (5 numbers between 0 and 1)\n",
    "linspace_arr = np.linspace(0, 1, 5)  # [0.0, 0.25, 0.5, 0.75, 1.0]\n",
    "\n",
    "# Random values (0 to 1)\n",
    "random_arr = np.random.rand(2, 3)  # 2x3 random values"
   ]
  },
  {
   "cell_type": "markdown",
   "id": "5d6c9ecc",
   "metadata": {},
   "source": [
    "### Real life usecases \n",
    "eg. Image processing "
   ]
  },
  {
   "cell_type": "code",
   "execution_count": 4,
   "id": "046985da",
   "metadata": {},
   "outputs": [
    {
     "name": "stdout",
     "output_type": "stream",
     "text": [
      "[[0.1 0.2 0.3]\n",
      " [0.4 0.5 0.6]\n",
      " [0.7 0.8 0.9]]\n",
      "float32\n"
     ]
    }
   ],
   "source": [
    "# Simulate a 3x3 pixel grayscale image (2D array)\n",
    "image = np.array([[0.1, 0.2, 0.3],\n",
    "                  [0.4, 0.5, 0.6],\n",
    "                  [0.7, 0.8, 0.9]], dtype=np.float32)\n",
    "print(image)\n",
    "print(image.dtype)"
   ]
  },
  {
   "cell_type": "markdown",
   "id": "2b0ec0d7",
   "metadata": {},
   "source": [
    "## NumPy Array Shapes, Reshaping, and Transposing"
   ]
  },
  {
   "cell_type": "markdown",
   "id": "4dcbe2a0",
   "metadata": {},
   "source": [
    "### Array Shapes\n",
    "Shape defines the dimensions of an array (rows, columns, depth, etc.)."
   ]
  },
  {
   "cell_type": "code",
   "execution_count": 7,
   "id": "02207679",
   "metadata": {},
   "outputs": [
    {
     "name": "stdout",
     "output_type": "stream",
     "text": [
      "Original 1D array: [ 0  1  2  3  4  5  6  7  8  9 10 11 12 13 14 15 16 17 18 19 20 21 22 23\n",
      " 24 25 26 27 28 29 30 31 32 33 34 35 36 37 38 39 40 41 42 43 44 45 46 47\n",
      " 48 49 50 51 52 53 54 55 56 57 58 59 60 61 62 63 64 65 66 67 68 69 70 71\n",
      " 72 73 74 75 76 77 78 79 80 81 82 83 84 85 86 87 88 89 90 91 92 93 94 95\n",
      " 96 97 98 99] \n",
      " Applying Shape:(100,) \n",
      "\n"
     ]
    }
   ],
   "source": [
    "import numpy as np\n",
    "arr_shape = np.arange(100)\n",
    "print(f\"Original 1D array: {arr_shape} \\n Applying Shape:{arr_shape.shape} \\n\")"
   ]
  },
  {
   "cell_type": "markdown",
   "id": "fab40cd6",
   "metadata": {},
   "source": [
    "Note: Be careful when applying the 'reshape' function. Make sure the matrix has a proper length that can be evenly split."
   ]
  },
  {
   "cell_type": "code",
   "execution_count": null,
   "id": "790e64fe",
   "metadata": {},
   "outputs": [
    {
     "name": "stdout",
     "output_type": "stream",
     "text": [
      "Reshape: [[1 2 3]\n",
      " [4 5 6]\n",
      " [7 8 9]] \n",
      " Shape: (3, 3)\n"
     ]
    }
   ],
   "source": [
    "arr_1d = np.array([1,2,3,4,5,6,7,8,9])\n",
    "arr_reshape = np.reshape(arr_1d, (3, 3))\n",
    "print(f\"Reshape: {arr_reshape} \\n Shape: {arr_reshape.shape}\") \n"
   ]
  },
  {
   "cell_type": "markdown",
   "id": "5d81d37a",
   "metadata": {},
   "source": [
    "### Array Transpose  \n",
    "Swaps rows and columns (e.g., row i becomes column j)."
   ]
  },
  {
   "cell_type": "code",
   "execution_count": 25,
   "id": "3166b2a2",
   "metadata": {},
   "outputs": [
    {
     "name": "stdout",
     "output_type": "stream",
     "text": [
      "\n",
      "Transposed: [[1 4 7]\n",
      " [2 5 8]\n",
      " [3 6 9]] \n",
      " Shape: (3, 3)\n",
      "\n",
      "Transposed: [[ 23  45   7   9  88 300]\n",
      " [  5  99   8 100 208 456]] \n",
      " Shape: (2, 6)\n"
     ]
    }
   ],
   "source": [
    "arr_2d = np.array([[1, 2, 3],\n",
    "                   [4, 5, 6],\n",
    "                   [7, 8, 9]])\n",
    "arr_2d_big = np.array([[23, 5],\n",
    "                       [45, 99],\n",
    "                       [7, 8],\n",
    "                       [9, 100],\n",
    "                       [88, 208],\n",
    "                       [300, 456]])\n",
    "arr_transposed = arr_2d.T\n",
    "arr_transposed_big = arr_2d_big.T\n",
    "print(f\"\\nTransposed: {arr_transposed} \\n Shape: {arr_transposed.shape}\")\n",
    "print(f\"\\nTransposed: {arr_transposed_big} \\n Shape: {arr_transposed_big.shape}\")\n"
   ]
  },
  {
   "cell_type": "markdown",
   "id": "abdd9ba3",
   "metadata": {},
   "source": [
    "## NumPy Indexing & Slicing\n",
    "NumPy provides powerful indexing and slicing operations to access and modify array data efficiently. "
   ]
  },
  {
   "cell_type": "markdown",
   "id": "f5ad9e64",
   "metadata": {},
   "source": [
    "### Basic Indexing\n",
    "Access elements using integer indices."
   ]
  },
  {
   "cell_type": "code",
   "execution_count": null,
   "id": "86fb90e8",
   "metadata": {},
   "outputs": [
    {
     "name": "stdout",
     "output_type": "stream",
     "text": [
      "\n",
      " Output: 10 (first element)\n",
      "\n",
      " Output: 50 (last element)\n"
     ]
    }
   ],
   "source": [
    "arr_index = np.array([10, 20, 30, 40, 50])\n",
    "print(f\"\\n Output: {arr_index[0]} (first element)\")    \n",
    "print(f\"\\n Output: {arr_index[-1]} (last element)\")   "
   ]
  },
  {
   "cell_type": "markdown",
   "id": "540932a8",
   "metadata": {},
   "source": [
    "### Slicing\n",
    "Extract subarrays using start:stop:step.<br>\n",
    "start: Inclusive (default 0).<br>\n",
    "stop: Exclusive (default length).<br>\n",
    "step: Interval (default 1).<br>"
   ]
  },
  {
   "cell_type": "code",
   "execution_count": null,
   "id": "1112253d",
   "metadata": {},
   "outputs": [
    {
     "name": "stdout",
     "output_type": "stream",
     "text": [
      "Get[88] = 88\n",
      "Get[88,99,63] = [88 99 63]\n",
      "Get[89] = [89]\n",
      "Get[88,63] = [88 63]\n"
     ]
    }
   ],
   "source": [
    "arr_slicing = np.array([18, 89, 23, 88, 99, 63]) \n",
    "# Basic indexing - accessing a single element\n",
    "print(f\"Get[88] = {arr_slicing[3]}\")  # Index 3 is the 4th element (0-based indexing)\n",
    "\n",
    "# Slicing - getting a range of elements\n",
    "print(f\"Get[88,99,63] = {arr_slicing[3:6]}\")  # From index 3 to 5 (6 is exclusive)\n",
    "\n",
    "# Stepped slicing - getting elements with a step\n",
    "print(f\"Get[89] = {arr_slicing[1:3:2]}\")  # From index 1 to 2 (step of 2)\n",
    "\n",
    "# To get [88,63] we need to use stepped slicing\n",
    "print(f\"Get[88,63] = {arr_slicing[3:6:2]}\")  # From index 3 to 5 with step of 2\n"
   ]
  },
  {
   "cell_type": "markdown",
   "id": "a5da9442",
   "metadata": {},
   "source": [
    "## NumPy Broadcasting\n",
    "Broadcasting allows NumPy to perform operations on arrays of different shapes by automatically expanding the smaller array to match the larger one, without copying data, for efficient computation."
   ]
  },
  {
   "cell_type": "markdown",
   "id": "55f96a93",
   "metadata": {},
   "source": [
    "### Core Broadcasting Rules\n",
    "- Two arrays are compatible for broadcasting if for every trailing dimension (from right to left):\n",
    "- Their sizes match, or\n",
    "- One of them has size 1 (is stretched to match the other), or\n",
    "- One of them doesn’t exist (is virtually expanded to match)."
   ]
  },
  {
   "cell_type": "markdown",
   "id": "de435333",
   "metadata": {},
   "source": [
    "###  Scaling Data"
   ]
  },
  {
   "cell_type": "code",
   "execution_count": 6,
   "id": "3298e595",
   "metadata": {},
   "outputs": [
    {
     "name": "stdout",
     "output_type": "stream",
     "text": [
      "\n",
      " Data: \n",
      "[[1 2]\n",
      " [3 4]\n",
      " [5 6]] \n",
      " Scaling factors: [ 10 100] \n",
      " After changes: \n",
      "[[ 10 200]\n",
      " [ 30 400]\n",
      " [ 50 600]]\n"
     ]
    }
   ],
   "source": [
    "import numpy as np\n",
    "data = np.array([[1, 2], \n",
    "                 [3, 4], \n",
    "                 [5, 6]])\n",
    "\n",
    "scaling_factors = np.array([10, 100])\n",
    "scaled_data = data * scaling_factors\n",
    "print(f\"\\n Data: \\n{data} \\n Scaling factors: {scaling_factors} \\n After changes: \\n{scaled_data}\")\n",
    "\n"
   ]
  }
 ],
 "metadata": {
  "kernelspec": {
   "display_name": ".venv",
   "language": "python",
   "name": "python3"
  },
  "language_info": {
   "codemirror_mode": {
    "name": "ipython",
    "version": 3
   },
   "file_extension": ".py",
   "mimetype": "text/x-python",
   "name": "python",
   "nbconvert_exporter": "python",
   "pygments_lexer": "ipython3",
   "version": "3.12.4"
  }
 },
 "nbformat": 4,
 "nbformat_minor": 5
}
