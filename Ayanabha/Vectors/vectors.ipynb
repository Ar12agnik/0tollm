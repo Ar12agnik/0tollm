{
 "cells": [
  {
   "cell_type": "code",
   "execution_count": 3,
   "id": "b5bafd1d",
   "metadata": {},
   "outputs": [
    {
     "name": "stdout",
     "output_type": "stream",
     "text": [
      "Test execution passed.\n"
     ]
    }
   ],
   "source": [
    "print(\"Test execution passed.\")"
   ]
  },
  {
   "cell_type": "markdown",
   "id": "d26bdec1",
   "metadata": {},
   "source": [
    "# Vectors\n"
   ]
  },
  {
   "cell_type": "markdown",
   "id": "bcbb171b",
   "metadata": {},
   "source": [
    "Vector is a point in perticular cordinate system."
   ]
  },
  {
   "cell_type": "markdown",
   "id": "429a012a",
   "metadata": {},
   "source": [
    "## Represantation "
   ]
  },
  {
   "cell_type": "code",
   "execution_count": null,
   "id": "05921b64",
   "metadata": {},
   "outputs": [],
   "source": [
    "import numpy as np\n",
    "v1 = np.array([1, 2, 3, 4, 5, 6, 7, 8, 9]) #9D Vector\n",
    "v2 = np.array([11, 12, 13, 14, 15, 16, 17, 18, 19]) #9D Vector\n",
    "v_mini1 = np.array([1,2]) #2D Vector \n",
    "v_mini2 = np.array([3,4]) #2D Vector \n"
   ]
  },
  {
   "cell_type": "markdown",
   "id": "51b5ef79",
   "metadata": {},
   "source": [
    "Same position = Same Axies"
   ]
  },
  {
   "cell_type": "markdown",
   "id": "bf41d2df",
   "metadata": {},
   "source": [
    "## Distance from origin"
   ]
  },
  {
   "cell_type": "code",
   "execution_count": 6,
   "id": "c5e75921",
   "metadata": {},
   "outputs": [
    {
     "name": "stdout",
     "output_type": "stream",
     "text": [
      "16.881943016134134\n"
     ]
    }
   ],
   "source": [
    "# Apply on v1 (Vector 1)\n",
    "from math import sqrt \n",
    "sum = 0\n",
    "for i in v1:\n",
    "    sum = sum + i**2\n",
    "# print(sum)\n",
    "squre_root = sqrt(sum)\n",
    "print(squre_root)\n",
    " \n"
   ]
  },
  {
   "cell_type": "code",
   "execution_count": 7,
   "id": "87763625",
   "metadata": {},
   "outputs": [
    {
     "name": "stdout",
     "output_type": "stream",
     "text": [
      "45.661800227323496\n"
     ]
    }
   ],
   "source": [
    "#Apply on v2 (Vector 2)\n",
    "\n",
    "from math import sqrt\n",
    "sum_v2 = 0\n",
    "for g in v2:\n",
    "    sum_v2 = sum_v2 + g**2\n",
    "# print(sum_v2)\n",
    "squre_root_of_v2 = sqrt(sum_v2)\n",
    "print(squre_root_of_v2) \n"
   ]
  },
  {
   "cell_type": "markdown",
   "id": "43bce5d7",
   "metadata": {},
   "source": [
    "Now apply using built in function"
   ]
  },
  {
   "cell_type": "code",
   "execution_count": 8,
   "id": "5b498d88",
   "metadata": {},
   "outputs": [
    {
     "name": "stdout",
     "output_type": "stream",
     "text": [
      "distance from origin of vector [1 2 3 4 5 6 7 8 9] is 16.881943016134134\n"
     ]
    }
   ],
   "source": [
    "# Built in method\n",
    "magnitude = np.linalg.norm(v1)\n",
    "print(f\"distance from origin of vector {v1} is {magnitude}\")"
   ]
  },
  {
   "cell_type": "markdown",
   "id": "bd392cba",
   "metadata": {},
   "source": [
    "## Enclidean Distance"
   ]
  },
  {
   "cell_type": "code",
   "execution_count": 11,
   "id": "ebe94cd8",
   "metadata": {},
   "outputs": [
    {
     "data": {
      "text/plain": [
       "2.8284271247461903"
      ]
     },
     "execution_count": 11,
     "metadata": {},
     "output_type": "execute_result"
    }
   ],
   "source": [
    " # Applying enclidean distance in 2D vector\n",
    "sum_root = 0\n",
    "for i in range(len(v_mini1)):\n",
    "    sum_root = sum_root + (v_mini1[i] - v_mini2[i])**2 \n",
    "# print(sum_root)\n",
    "sum_squre_root = sqrt(sum_root)\n",
    "# print(sum_squre_root)\n",
    "sum_squre_root "
   ]
  },
  {
   "cell_type": "markdown",
   "id": "1c4eeccc",
   "metadata": {},
   "source": [
    "## Scaler Addition"
   ]
  },
  {
   "cell_type": "code",
   "execution_count": null,
   "id": "336a1bf3",
   "metadata": {},
   "outputs": [
    {
     "data": {
      "text/plain": [
       "array([91, 92, 93, 94, 95, 96, 97, 98, 99])"
      ]
     },
     "execution_count": 14,
     "metadata": {},
     "output_type": "execute_result"
    }
   ],
   "source": [
    "v1 + 90"
   ]
  },
  {
   "cell_type": "markdown",
   "id": "a6de07e4",
   "metadata": {},
   "source": [
    "## Scaler Substraction "
   ]
  },
  {
   "cell_type": "code",
   "execution_count": 15,
   "id": "e7b9e091",
   "metadata": {},
   "outputs": [
    {
     "data": {
      "text/plain": [
       "array([-79, -78, -77, -76, -75, -74, -73, -72, -71])"
      ]
     },
     "execution_count": 15,
     "metadata": {},
     "output_type": "execute_result"
    }
   ],
   "source": [
    "v2 - 90"
   ]
  },
  {
   "cell_type": "markdown",
   "id": "3d7ccbd0",
   "metadata": {},
   "source": [
    "## Dot product\n"
   ]
  },
  {
   "cell_type": "code",
   "execution_count": 16,
   "id": "7b8adb54",
   "metadata": {},
   "outputs": [
    {
     "name": "stdout",
     "output_type": "stream",
     "text": [
      "735\n"
     ]
    }
   ],
   "source": [
    "# Applying dot product\n",
    "#v1 = Vector 1 with 9D component \n",
    "#v2 = Vector 2 with 9D component\n",
    "\n",
    "sum_result = 0\n",
    "for i in range(len(v1)):\n",
    "    sum_result = sum_result + (v1[i]*v2[i])\n",
    "print(sum_result)"
   ]
  },
  {
   "cell_type": "code",
   "execution_count": null,
   "id": "39c03036",
   "metadata": {},
   "outputs": [],
   "source": []
  }
 ],
 "metadata": {
  "kernelspec": {
   "display_name": ".venv",
   "language": "python",
   "name": "python3"
  },
  "language_info": {
   "codemirror_mode": {
    "name": "ipython",
    "version": 3
   },
   "file_extension": ".py",
   "mimetype": "text/x-python",
   "name": "python",
   "nbconvert_exporter": "python",
   "pygments_lexer": "ipython3",
   "version": "3.12.4"
  }
 },
 "nbformat": 4,
 "nbformat_minor": 5
}
