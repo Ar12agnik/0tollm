{
 "cells": [
  {
   "cell_type": "markdown",
   "id": "3a6c29a8",
   "metadata": {},
   "source": [
    "# Numpy"
   ]
  },
  {
   "cell_type": "markdown",
   "id": "8b1b9966",
   "metadata": {},
   "source": [
    "NumPy is the fundamental package for scientific computing in Python"
   ]
  },
  {
   "cell_type": "markdown",
   "id": "ec212a29",
   "metadata": {},
   "source": [
    "## Basics"
   ]
  },
  {
   "cell_type": "markdown",
   "id": "b2073167",
   "metadata": {},
   "source": [
    "### Array Creation"
   ]
  },
  {
   "cell_type": "markdown",
   "id": "ef837b16",
   "metadata": {},
   "source": [
    "#### 1. Converting a list or any iterable to an array"
   ]
  },
  {
   "cell_type": "code",
   "execution_count": 1,
   "id": "d449f992",
   "metadata": {},
   "outputs": [
    {
     "name": "stdout",
     "output_type": "stream",
     "text": [
      "[1 2 3 4 5 6 7 8 9]\n",
      "[ 6  7  8  9 10 11 12]\n",
      "[ 15  17  19  21  23  25  27  29  31  33  35  37  39  41  43  45  47  49\n",
      "  51  53  55  57  59  61  63  65  67  69  71  73  75  77  79  81  83  85\n",
      "  87  89  91  93  95  97  99 101 103 105 107 109 111 113 115 117 119 121\n",
      " 123 125 127 129 131 133 135 137 139 141 143 145 147 149 151 153 155 157\n",
      " 159 161 163 165 167 169 171 173 175 177 179 181 183 185 187 189 191 193\n",
      " 195 197 199]\n"
     ]
    }
   ],
   "source": [
    "import numpy as np\n",
    "array1 = np.array([1,2,3,4,5,6,7,8,9]) #array from List\n",
    "array2 = np.array((6,7,8,9,10,11,12))#array from tupple\n",
    "array3 = np.array(range(15,200,2))\n",
    "print(array1)\n",
    "print(array2)\n",
    "print(array3)"
   ]
  },
  {
   "cell_type": "markdown",
   "id": "96792c0b",
   "metadata": {},
   "source": [
    "### 2) Intrinsic NumPy array creation functions"
   ]
  },
  {
   "cell_type": "markdown",
   "id": "a6a01745",
   "metadata": {},
   "source": [
    "1) 1D array"
   ]
  },
  {
   "cell_type": "code",
   "execution_count": 2,
   "id": "aa5309de",
   "metadata": {},
   "outputs": [
    {
     "data": {
      "text/plain": [
       "array([0, 1, 2, 3, 4, 5, 6, 7, 8, 9])"
      ]
     },
     "execution_count": 2,
     "metadata": {},
     "output_type": "execute_result"
    }
   ],
   "source": [
    "np.arange(10)"
   ]
  },
  {
   "cell_type": "code",
   "execution_count": 3,
   "id": "204ec021",
   "metadata": {},
   "outputs": [
    {
     "data": {
      "text/plain": [
       "array([2.8162, 2.9162, 3.0162, 3.1162, 3.2162, 3.3162, 3.4162, 3.5162,\n",
       "       3.6162, 3.7162, 3.8162, 3.9162, 4.0162, 4.1162, 4.2162, 4.3162,\n",
       "       4.4162, 4.5162, 4.6162, 4.7162, 4.8162, 4.9162, 5.0162, 5.1162,\n",
       "       5.2162, 5.3162, 5.4162, 5.5162, 5.6162, 5.7162, 5.8162, 5.9162,\n",
       "       6.0162, 6.1162, 6.2162, 6.3162, 6.4162, 6.5162, 6.6162, 6.7162,\n",
       "       6.8162, 6.9162, 7.0162, 7.1162, 7.2162, 7.3162, 7.4162, 7.5162,\n",
       "       7.6162, 7.7162, 7.8162, 7.9162, 8.0162, 8.1162, 8.2162, 8.3162,\n",
       "       8.4162, 8.5162, 8.6162, 8.7162, 8.8162, 8.9162, 9.0162, 9.1162,\n",
       "       9.2162, 9.3162, 9.4162, 9.5162, 9.6162, 9.7162, 9.8162, 9.9162])"
      ]
     },
     "execution_count": 3,
     "metadata": {},
     "output_type": "execute_result"
    }
   ],
   "source": [
    "np.arange(2.8162,10,0.1,dtype='float')"
   ]
  },
  {
   "cell_type": "code",
   "execution_count": 4,
   "id": "bbe62cc5",
   "metadata": {},
   "outputs": [
    {
     "data": {
      "text/plain": [
       "array([1.  , 1.75, 2.5 , 3.25, 4.  ])"
      ]
     },
     "execution_count": 4,
     "metadata": {},
     "output_type": "execute_result"
    }
   ],
   "source": [
    "#linspace is used for equal number of space between given range\n",
    "np.linspace(1,4,5)\n",
    "#equal spaces between each element can be observerd"
   ]
  },
  {
   "cell_type": "markdown",
   "id": "2a6abdad",
   "metadata": {},
   "source": [
    "2. 2D array"
   ]
  },
  {
   "cell_type": "code",
   "execution_count": 5,
   "id": "bdf9eb5b",
   "metadata": {},
   "outputs": [
    {
     "data": {
      "text/plain": [
       "array([[1., 0., 0., 0., 0.],\n",
       "       [0., 1., 0., 0., 0.],\n",
       "       [0., 0., 1., 0., 0.],\n",
       "       [0., 0., 0., 1., 0.],\n",
       "       [0., 0., 0., 0., 1.]])"
      ]
     },
     "execution_count": 5,
     "metadata": {},
     "output_type": "execute_result"
    }
   ],
   "source": [
    "#identity matrix\n",
    "np.eye(5)"
   ]
  },
  {
   "cell_type": "code",
   "execution_count": 6,
   "id": "fd9c6380",
   "metadata": {},
   "outputs": [
    {
     "data": {
      "text/plain": [
       "array([[1, 0, 0, 0, 0],\n",
       "       [0, 2, 0, 0, 0],\n",
       "       [0, 0, 3, 0, 0],\n",
       "       [0, 0, 0, 5, 0],\n",
       "       [0, 0, 0, 0, 4]])"
      ]
     },
     "execution_count": 6,
     "metadata": {},
     "output_type": "execute_result"
    }
   ],
   "source": [
    "#create a 2D matrix with a given diagonal \n",
    "np.diag([1,2,3,5,4])"
   ]
  },
  {
   "cell_type": "code",
   "execution_count": 7,
   "id": "bdd0a3c3",
   "metadata": {},
   "outputs": [
    {
     "data": {
      "text/plain": [
       "array([[0, 0, 0, 0, 0],\n",
       "       [1, 0, 0, 0, 0],\n",
       "       [0, 2, 0, 0, 0],\n",
       "       [0, 0, 3, 0, 0],\n",
       "       [0, 0, 0, 4, 0]])"
      ]
     },
     "execution_count": 7,
     "metadata": {},
     "output_type": "execute_result"
    }
   ],
   "source": [
    "#create a digonal matrix with shifted diagional\n",
    "np.diag([1,2,3,4],-1)\n",
    "#the -1 represent the shifting positive numbers shift upwards and negetive shift downwards"
   ]
  },
  {
   "cell_type": "code",
   "execution_count": 8,
   "id": "48fde529",
   "metadata": {},
   "outputs": [
    {
     "data": {
      "text/plain": [
       "array([1, 5, 9])"
      ]
     },
     "execution_count": 8,
     "metadata": {},
     "output_type": "execute_result"
    }
   ],
   "source": [
    "#get the diagonals from a 2D matrix\n",
    "np.diag([[1,2,3],[4,5,6],[7,8,9]])"
   ]
  },
  {
   "cell_type": "markdown",
   "id": "6880fd20",
   "metadata": {},
   "source": [
    "3) General ND array"
   ]
  },
  {
   "cell_type": "code",
   "execution_count": 9,
   "id": "9a198846",
   "metadata": {},
   "outputs": [
    {
     "data": {
      "text/plain": [
       "array([[0., 0., 0.],\n",
       "       [0., 0., 0.]])"
      ]
     },
     "execution_count": 9,
     "metadata": {},
     "output_type": "execute_result"
    }
   ],
   "source": [
    "np.zeros((2,3))#an 2X3 matrix will be formed"
   ]
  },
  {
   "cell_type": "code",
   "execution_count": 10,
   "id": "0e6843ea",
   "metadata": {},
   "outputs": [
    {
     "data": {
      "text/plain": [
       "array([[1., 1., 1.],\n",
       "       [1., 1., 1.]])"
      ]
     },
     "execution_count": 10,
     "metadata": {},
     "output_type": "execute_result"
    }
   ],
   "source": [
    "np.ones((2,3))"
   ]
  },
  {
   "cell_type": "markdown",
   "id": "5e44f747",
   "metadata": {},
   "source": [
    "### Array Attributes"
   ]
  },
  {
   "cell_type": "markdown",
   "id": "301f4622",
   "metadata": {},
   "source": [
    "array.shape gives us the shape of the array  examples are given bellow"
   ]
  },
  {
   "cell_type": "code",
   "execution_count": 11,
   "id": "6094d97c",
   "metadata": {},
   "outputs": [
    {
     "name": "stdout",
     "output_type": "stream",
     "text": [
      "[[1 0 0 0 0]\n",
      " [0 2 0 0 0]\n",
      " [0 0 3 0 0]\n",
      " [0 0 0 5 0]\n",
      " [0 0 0 0 4]]\n",
      "the shape of the array is (5, 5)\n"
     ]
    }
   ],
   "source": [
    "array = np.diag([1,2,3,5,4])\n",
    "print(array)\n",
    "print(f\"the shape of the array is {array.shape}\")"
   ]
  },
  {
   "cell_type": "code",
   "execution_count": 12,
   "id": "7227c24c",
   "metadata": {},
   "outputs": [
    {
     "name": "stdout",
     "output_type": "stream",
     "text": [
      "[[ 1  2  3]\n",
      " [ 4  5  6]\n",
      " [ 7  8  9]\n",
      " [10 11 12]]\n",
      "the shape of the array is (4, 3)\n"
     ]
    }
   ],
   "source": [
    "array = np.array([[1,2,3],[4,5,6],[7,8,9],[10,11,12]])\n",
    "print(array)\n",
    "print(f\"the shape of the array is {array.shape}\")\n",
    "\n"
   ]
  },
  {
   "cell_type": "markdown",
   "id": "d18ec0f7",
   "metadata": {},
   "source": [
    "array.ndim returns the dimentions of an array"
   ]
  },
  {
   "cell_type": "code",
   "execution_count": 15,
   "id": "9b2bb29f",
   "metadata": {},
   "outputs": [
    {
     "name": "stdout",
     "output_type": "stream",
     "text": [
      "[[ 1  2  3]\n",
      " [ 4  5  6]\n",
      " [ 7  8  9]\n",
      " [10 11 12]]\n",
      "The dimentions of the array is 2\n"
     ]
    }
   ],
   "source": [
    "print(array)\n",
    "print(f\"The dimentions of the array is {array.ndim}\")"
   ]
  },
  {
   "cell_type": "markdown",
   "id": "084746f8",
   "metadata": {},
   "source": [
    "array.dtype returns the data type in the array"
   ]
  },
  {
   "cell_type": "code",
   "execution_count": 16,
   "id": "6d9b6260",
   "metadata": {},
   "outputs": [
    {
     "data": {
      "text/plain": [
       "dtype('int64')"
      ]
     },
     "execution_count": 16,
     "metadata": {},
     "output_type": "execute_result"
    }
   ],
   "source": [
    "array.dtype"
   ]
  },
  {
   "cell_type": "markdown",
   "id": "17f58f64",
   "metadata": {},
   "source": [
    "array.size returns the number of elements in the array"
   ]
  },
  {
   "cell_type": "code",
   "execution_count": 18,
   "id": "f9933a06",
   "metadata": {},
   "outputs": [
    {
     "name": "stdout",
     "output_type": "stream",
     "text": [
      "The array\n",
      "[[ 1  2  3]\n",
      " [ 4  5  6]\n",
      " [ 7  8  9]\n",
      " [10 11 12]]\n",
      " has 12 elements\n"
     ]
    }
   ],
   "source": [
    "print(f\"The array\\n{array}\\n has {array.size} elements\")"
   ]
  },
  {
   "cell_type": "code",
   "execution_count": null,
   "id": "bf0fc57c",
   "metadata": {},
   "outputs": [],
   "source": []
  }
 ],
 "metadata": {
  "kernelspec": {
   "display_name": ".venv (3.12.4)",
   "language": "python",
   "name": "python3"
  },
  "language_info": {
   "codemirror_mode": {
    "name": "ipython",
    "version": 3
   },
   "file_extension": ".py",
   "mimetype": "text/x-python",
   "name": "python",
   "nbconvert_exporter": "python",
   "pygments_lexer": "ipython3",
   "version": "3.12.4"
  }
 },
 "nbformat": 4,
 "nbformat_minor": 5
}
