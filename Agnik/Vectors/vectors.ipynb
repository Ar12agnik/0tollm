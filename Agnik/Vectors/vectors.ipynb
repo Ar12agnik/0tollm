{
  "cells": [
    {
      "cell_type": "markdown",
      "id": "c40831e4",
      "metadata": {
        "id": "c40831e4"
      },
      "source": [
        "<h1>Vectors</h1>"
      ]
    },
    {
      "cell_type": "markdown",
      "id": "de85e8c1",
      "metadata": {
        "id": "de85e8c1"
      },
      "source": [
        "Vector is a point in a perticular co-ordinate system"
      ]
    },
    {
      "cell_type": "markdown",
      "id": "eae2fb46",
      "metadata": {
        "id": "eae2fb46"
      },
      "source": [
        "<h2>Representation:</h2>"
      ]
    },
    {
      "cell_type": "code",
      "execution_count": 1,
      "id": "83509499",
      "metadata": {
        "colab": {
          "base_uri": "https://localhost:8080/"
        },
        "id": "83509499",
        "outputId": "9c4fb9c4-fac8-436e-d1c2-110bcb02359a"
      },
      "outputs": [
        {
          "output_type": "stream",
          "name": "stdout",
          "text": [
            "[1 2 3 4 5]\n",
            "[ 6  7  8  9 10]\n"
          ]
        }
      ],
      "source": [
        "import numpy as np\n",
        "vector = np.array([1,2,3,4,5])\n",
        "vector2 = np.array([6,7,8,9,10])\n",
        "print(vector)\n",
        "print(vector2)"
      ]
    },
    {
      "cell_type": "markdown",
      "id": "08ea7d98",
      "metadata": {
        "id": "08ea7d98"
      },
      "source": [
        "<h2>Distance From Origin: </h2>"
      ]
    },
    {
      "cell_type": "code",
      "execution_count": 2,
      "id": "cbe276a1",
      "metadata": {
        "colab": {
          "base_uri": "https://localhost:8080/"
        },
        "id": "cbe276a1",
        "outputId": "944040dd-a48a-4b3c-f900-6ad33bdfd1cf"
      },
      "outputs": [
        {
          "output_type": "stream",
          "name": "stdout",
          "text": [
            "distance from origin of vector [1 2 3 4 5] is 7.416198487095663\n"
          ]
        }
      ],
      "source": [
        "from math import sqrt\n",
        "sum_squared = 0\n",
        "for i in vector:\n",
        "    sum_squared+=i**2\n",
        "distance_from_origin = sqrt(sum_squared)\n",
        "print(f\"distance from origin of vector {vector} is {distance_from_origin}\")"
      ]
    },
    {
      "cell_type": "code",
      "execution_count": 3,
      "id": "46d2b324",
      "metadata": {
        "colab": {
          "base_uri": "https://localhost:8080/"
        },
        "id": "46d2b324",
        "outputId": "908557a5-609c-40c2-e048-00785a7b148b"
      },
      "outputs": [
        {
          "output_type": "stream",
          "name": "stdout",
          "text": [
            "distance from origin of vector [1 2 3 4 5] is 7.416198487095663\n"
          ]
        }
      ],
      "source": [
        "# Built in method\n",
        "magnitude = np.linalg.norm(vector)\n",
        "print(f\"distance from origin of vector {vector} is {magnitude}\")"
      ]
    },
    {
      "cell_type": "markdown",
      "id": "8130f33c",
      "metadata": {
        "id": "8130f33c"
      },
      "source": [
        "<h2>Elucidian Distance</h2>"
      ]
    },
    {
      "cell_type": "markdown",
      "id": "9fa38a8e",
      "metadata": {
        "id": "9fa38a8e"
      },
      "source": [
        "Elucidian distance is the distance between two vectors"
      ]
    },
    {
      "cell_type": "code",
      "source": [
        "if len(vector) == len(vector2):\n",
        "  sum_sqrd=0\n",
        "  for i in range(len(vector)):\n",
        "    sum_sqrd+=(vector2[i]-vector[i])**2\n",
        "  final_res = sqrt(sum_sqrd)\n",
        "  print(f\"distance between 2 vectirs {vector} and {vector2} is {final_res}\")\n",
        "else:\n",
        "  print(\"vectors are not of same legnth\")"
      ],
      "metadata": {
        "colab": {
          "base_uri": "https://localhost:8080/"
        },
        "id": "cGTh9JFVsc7j",
        "outputId": "a086b804-1f8c-4fb7-c71f-766daa3cc96d"
      },
      "id": "cGTh9JFVsc7j",
      "execution_count": 7,
      "outputs": [
        {
          "output_type": "stream",
          "name": "stdout",
          "text": [
            "distance between 2 vectirs [1 2 3 4 5] and [ 6  7  8  9 10] is 11.180339887498949\n"
          ]
        }
      ]
    },
    {
      "cell_type": "code",
      "source": [],
      "metadata": {
        "id": "vWmQR2OGuYYO"
      },
      "id": "vWmQR2OGuYYO",
      "execution_count": null,
      "outputs": []
    }
  ],
  "metadata": {
    "kernelspec": {
      "display_name": ".venv (3.12.4)",
      "language": "python",
      "name": "python3"
    },
    "language_info": {
      "codemirror_mode": {
        "name": "ipython",
        "version": 3
      },
      "file_extension": ".py",
      "mimetype": "text/x-python",
      "name": "python",
      "nbconvert_exporter": "python",
      "pygments_lexer": "ipython3",
      "version": "3.12.4"
    },
    "colab": {
      "provenance": []
    }
  },
  "nbformat": 4,
  "nbformat_minor": 5
}