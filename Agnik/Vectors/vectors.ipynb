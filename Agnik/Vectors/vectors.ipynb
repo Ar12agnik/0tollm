{
  "cells": [
    {
      "cell_type": "markdown",
      "id": "c40831e4",
      "metadata": {
        "id": "c40831e4"
      },
      "source": [
        "<h1>Vectors</h1>"
      ]
    },
    {
      "cell_type": "markdown",
      "id": "de85e8c1",
      "metadata": {
        "id": "de85e8c1"
      },
      "source": [
        "Vector is a point in a perticular co-ordinate system"
      ]
    },
    {
      "cell_type": "markdown",
      "id": "eae2fb46",
      "metadata": {
        "id": "eae2fb46"
      },
      "source": [
        "<h2>Representation:</h2>"
      ]
    },
    {
      "cell_type": "code",
      "execution_count": 8,
      "id": "83509499",
      "metadata": {
        "colab": {
          "base_uri": "https://localhost:8080/"
        },
        "id": "83509499",
        "outputId": "83161307-5b6b-4416-eb24-8e0661c79f11"
      },
      "outputs": [
        {
          "output_type": "stream",
          "name": "stdout",
          "text": [
            "[1 2 3 4 5]\n",
            "[ 6  7  8  9 10]\n"
          ]
        }
      ],
      "source": [
        "import numpy as np\n",
        "vector = np.array([1,2,3,4,5])\n",
        "vector2 = np.array([6,7,8,9,10])\n",
        "print(vector)\n",
        "print(vector2)"
      ]
    },
    {
      "cell_type": "markdown",
      "id": "08ea7d98",
      "metadata": {
        "id": "08ea7d98"
      },
      "source": [
        "<h2>Distance From Origin: </h2>"
      ]
    },
    {
      "cell_type": "code",
      "execution_count": 9,
      "id": "cbe276a1",
      "metadata": {
        "colab": {
          "base_uri": "https://localhost:8080/"
        },
        "id": "cbe276a1",
        "outputId": "bc6d3390-a24d-44fd-c268-9bc6a95de41b"
      },
      "outputs": [
        {
          "output_type": "stream",
          "name": "stdout",
          "text": [
            "distance from origin of vector [1 2 3 4 5] is 7.416198487095663\n"
          ]
        }
      ],
      "source": [
        "from math import sqrt\n",
        "sum_squared = 0\n",
        "for i in vector:\n",
        "    sum_squared+=i**2\n",
        "distance_from_origin = sqrt(sum_squared)\n",
        "print(f\"distance from origin of vector {vector} is {distance_from_origin}\")"
      ]
    },
    {
      "cell_type": "code",
      "execution_count": 10,
      "id": "46d2b324",
      "metadata": {
        "colab": {
          "base_uri": "https://localhost:8080/"
        },
        "id": "46d2b324",
        "outputId": "689c0551-b36d-45b9-b8ee-b240ab548dcc"
      },
      "outputs": [
        {
          "output_type": "stream",
          "name": "stdout",
          "text": [
            "distance from origin of vector [1 2 3 4 5] is 7.416198487095663\n"
          ]
        }
      ],
      "source": [
        "# Built in method\n",
        "magnitude = np.linalg.norm(vector)\n",
        "print(f\"distance from origin of vector {vector} is {magnitude}\")"
      ]
    },
    {
      "cell_type": "markdown",
      "id": "8130f33c",
      "metadata": {
        "id": "8130f33c"
      },
      "source": [
        "<h2>Elucidian Distance</h2>"
      ]
    },
    {
      "cell_type": "markdown",
      "id": "9fa38a8e",
      "metadata": {
        "id": "9fa38a8e"
      },
      "source": [
        "Elucidian distance is the distance between two vectors"
      ]
    },
    {
      "cell_type": "code",
      "source": [
        "vector = np.array([1,2,3,4,5])\n",
        "vector2 = np.array([6,7,8,9,10])\n",
        "if len(vector) == len(vector2):\n",
        "  sum_sqrd=0\n",
        "  for i in range(len(vector)):\n",
        "    sum_sqrd+=(vector2[i]-vector[i])**2\n",
        "  final_res = sqrt(sum_sqrd)\n",
        "  print(f\"distance between 2 vectirs {vector} and {vector2} is {final_res}\")\n",
        "else:\n",
        "  print(\"vectors are not of same legnth\")"
      ],
      "metadata": {
        "colab": {
          "base_uri": "https://localhost:8080/"
        },
        "id": "cGTh9JFVsc7j",
        "outputId": "07e59d29-a9ee-4b45-857a-38787a4b696c"
      },
      "id": "cGTh9JFVsc7j",
      "execution_count": 14,
      "outputs": [
        {
          "output_type": "stream",
          "name": "stdout",
          "text": [
            "distance between 2 vectirs [1 2 3 4 5] and [ 6  7  8  9 10] is 11.180339887498949\n"
          ]
        }
      ]
    },
    {
      "cell_type": "markdown",
      "source": [
        "##Dot Product\n",
        "\n",
        "\n",
        "\n"
      ],
      "metadata": {
        "id": "iFRBJwzhw_qA"
      },
      "id": "iFRBJwzhw_qA"
    },
    {
      "cell_type": "code",
      "source": [
        "if len(vector) == len(vector2):\n",
        "  sum=0\n",
        "  for i in range(len(vector)):\n",
        "    sum+=(vector2[i]*vector[i])\n",
        "  print(sum)"
      ],
      "metadata": {
        "id": "hx9VOsE6xG9T",
        "outputId": "6f3776a3-9f00-4194-addb-c53c7ea4909d",
        "colab": {
          "base_uri": "https://localhost:8080/"
        }
      },
      "id": "hx9VOsE6xG9T",
      "execution_count": 21,
      "outputs": [
        {
          "output_type": "stream",
          "name": "stdout",
          "text": [
            "130\n"
          ]
        }
      ]
    },
    {
      "cell_type": "markdown",
      "source": [
        "##scaller Addition and Subraction"
      ],
      "metadata": {
        "id": "0jV4SDOS4Itb"
      },
      "id": "0jV4SDOS4Itb"
    },
    {
      "cell_type": "code",
      "source": [
        "print(vector + 100)\n",
        "print(vector2 - 100)"
      ],
      "metadata": {
        "id": "RSsp2UTC4ISf",
        "outputId": "f621e74e-7bc6-4db8-d32c-ba1332ba9a3e",
        "colab": {
          "base_uri": "https://localhost:8080/"
        }
      },
      "id": "RSsp2UTC4ISf",
      "execution_count": 23,
      "outputs": [
        {
          "output_type": "stream",
          "name": "stdout",
          "text": [
            "[101 102 103 104 105]\n",
            "[-94 -93 -92 -91 -90]\n"
          ]
        }
      ]
    },
    {
      "cell_type": "code",
      "source": [],
      "metadata": {
        "id": "n-dMC4fS4gsv"
      },
      "id": "n-dMC4fS4gsv",
      "execution_count": null,
      "outputs": []
    }
  ],
  "metadata": {
    "kernelspec": {
      "display_name": ".venv (3.12.4)",
      "language": "python",
      "name": "python3"
    },
    "language_info": {
      "codemirror_mode": {
        "name": "ipython",
        "version": 3
      },
      "file_extension": ".py",
      "mimetype": "text/x-python",
      "name": "python",
      "nbconvert_exporter": "python",
      "pygments_lexer": "ipython3",
      "version": "3.12.4"
    },
    "colab": {
      "provenance": []
    }
  },
  "nbformat": 4,
  "nbformat_minor": 5
}