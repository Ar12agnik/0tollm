{
 "cells": [
  {
   "cell_type": "markdown",
   "id": "c40831e4",
   "metadata": {},
   "source": [
    "<h1>Vectors</h1>"
   ]
  },
  {
   "cell_type": "markdown",
   "id": "de85e8c1",
   "metadata": {},
   "source": [
    "Vector is a point in a perticular co-ordinate system "
   ]
  },
  {
   "cell_type": "markdown",
   "id": "eae2fb46",
   "metadata": {},
   "source": [
    "<h2>Representation:</h2>"
   ]
  },
  {
   "cell_type": "code",
   "execution_count": 1,
   "id": "83509499",
   "metadata": {},
   "outputs": [
    {
     "name": "stdout",
     "output_type": "stream",
     "text": [
      "[1 2 3 4 5]\n",
      "[ 6  7  8  9 10]\n"
     ]
    }
   ],
   "source": [
    "import numpy as np\n",
    "vector = np.array([1,2,3,4,5])\n",
    "vector2 = np.array([6,7,8,9,10])\n",
    "print(vector)\n",
    "print(vector2)"
   ]
  },
  {
   "cell_type": "markdown",
   "id": "08ea7d98",
   "metadata": {},
   "source": [
    "<h2>Distance From Origin: </h2>"
   ]
  },
  {
   "cell_type": "code",
   "execution_count": 2,
   "id": "cbe276a1",
   "metadata": {},
   "outputs": [
    {
     "name": "stdout",
     "output_type": "stream",
     "text": [
      "distance from origin of vector [1 2 3 4 5] is 7.416198487095663\n"
     ]
    }
   ],
   "source": [
    "from math import sqrt\n",
    "sum_squared = 0\n",
    "for i in vector:\n",
    "    sum_squared+=i**2\n",
    "distance_from_origin = sqrt(sum_squared)\n",
    "print(f\"distance from origin of vector {vector} is {distance_from_origin}\")"
   ]
  },
  {
   "cell_type": "code",
   "execution_count": 3,
   "id": "46d2b324",
   "metadata": {},
   "outputs": [
    {
     "name": "stdout",
     "output_type": "stream",
     "text": [
      "distance from origin of vector [1 2 3 4 5] is 7.416198487095663\n"
     ]
    }
   ],
   "source": [
    "# Built in method\n",
    "magnitude = np.linalg.norm(vector)\n",
    "print(f\"distance from origin of vector {vector} is {magnitude}\")"
   ]
  },
  {
   "cell_type": "markdown",
   "id": "8130f33c",
   "metadata": {},
   "source": [
    "<h2>Elucidian Distance</h2>"
   ]
  },
  {
   "cell_type": "markdown",
   "id": "9fa38a8e",
   "metadata": {},
   "source": [
    "Elucidian distance is the distance between two vectors"
   ]
  },
  {
   "cell_type": "markdown",
   "id": "37df7795",
   "metadata": {},
   "source": []
  }
 ],
 "metadata": {
  "kernelspec": {
   "display_name": ".venv (3.12.4)",
   "language": "python",
   "name": "python3"
  },
  "language_info": {
   "codemirror_mode": {
    "name": "ipython",
    "version": 3
   },
   "file_extension": ".py",
   "mimetype": "text/x-python",
   "name": "python",
   "nbconvert_exporter": "python",
   "pygments_lexer": "ipython3",
   "version": "3.12.4"
  }
 },
 "nbformat": 4,
 "nbformat_minor": 5
}
