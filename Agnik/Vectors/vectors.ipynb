{
 "cells": [
  {
   "cell_type": "markdown",
   "id": "c40831e4",
   "metadata": {},
   "source": [
    "<h1>Vectors</h1>"
   ]
  },
  {
   "cell_type": "markdown",
   "id": "de85e8c1",
   "metadata": {},
   "source": [
    "Vector is a point in a perticular co-ordinate system "
   ]
  },
  {
   "cell_type": "markdown",
   "id": "eae2fb46",
   "metadata": {},
   "source": [
    "<h2>Representation:</h2>"
   ]
  },
  {
   "cell_type": "code",
   "execution_count": 2,
   "id": "83509499",
   "metadata": {},
   "outputs": [],
   "source": [
    "import numpy as np"
   ]
  },
  {
   "cell_type": "code",
   "execution_count": null,
   "id": "0ba8aa61",
   "metadata": {},
   "outputs": [],
   "source": []
  }
 ],
 "metadata": {
  "kernelspec": {
   "display_name": ".venv (3.12.4)",
   "language": "python",
   "name": "python3"
  },
  "language_info": {
   "codemirror_mode": {
    "name": "ipython",
    "version": 3
   },
   "file_extension": ".py",
   "mimetype": "text/x-python",
   "name": "python",
   "nbconvert_exporter": "python",
   "pygments_lexer": "ipython3",
   "version": "3.12.4"
  }
 },
 "nbformat": 4,
 "nbformat_minor": 5
}
