{
  "nbformat": 4,
  "nbformat_minor": 0,
  "metadata": {
    "colab": {
      "provenance": [],
      "authorship_tag": "ABX9TyMqsCFtLRJI9OUSu+0V9kBi",
      "include_colab_link": true
    },
    "kernelspec": {
      "name": "python3",
      "display_name": "Python 3"
    },
    "language_info": {
      "name": "python"
    }
  },
  "cells": [
    {
      "cell_type": "markdown",
      "metadata": {
        "id": "view-in-github",
        "colab_type": "text"
      },
      "source": [
        "<a href=\"https://colab.research.google.com/github/Ar12agnik/0tollm/blob/main/Agnik%20/numpy_and_pandas/python_pandas.ipynb\" target=\"_parent\"><img src=\"https://colab.research.google.com/assets/colab-badge.svg\" alt=\"Open In Colab\"/></a>"
      ]
    },
    {
      "cell_type": "markdown",
      "source": [
        "# Pandas"
      ],
      "metadata": {
        "id": "9KhdZtbxydH4"
      }
    },
    {
      "cell_type": "markdown",
      "source": [
        "Pandas is a powerful library designed for data manipulation and analysis. It provides two primary data structures: Series (1D labeled array) and DataFrame (2D labeled data structure similar to a table). Pandas is built on top of NumPy, making it efficient for handling large datasets."
      ],
      "metadata": {
        "id": "MDkETv4jyrBv"
      }
    },
    {
      "cell_type": "code",
      "execution_count": 1,
      "metadata": {
        "id": "Q95YcPx7ww9F"
      },
      "outputs": [],
      "source": [
        "import numpy as np\n",
        "import pandas as pd"
      ]
    },
    {
      "cell_type": "code",
      "source": [
        "data = {\n",
        "    'name':[\"Agnik\",\"Anusree\",\"Arpita\"],\n",
        "    'address':[\"Kudghat\",\"Sealdah\",\"Howrah\"],\n",
        "}"
      ],
      "metadata": {
        "id": "q-FWQDT6xEBZ"
      },
      "execution_count": null,
      "outputs": []
    }
  ]
}